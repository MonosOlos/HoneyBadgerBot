{
 "metadata": {
  "language_info": {
   "codemirror_mode": {
    "name": "ipython",
    "version": 3
   },
   "file_extension": ".py",
   "mimetype": "text/x-python",
   "name": "python",
   "nbconvert_exporter": "python",
   "pygments_lexer": "ipython3",
   "version": "3.8.5"
  },
  "orig_nbformat": 2,
  "kernelspec": {
   "name": "python385jvsc74a57bd031f2aee4e71d21fbe5cf8b01ff0e069b9275f58929596ceb00d14d90e3e16cd6",
   "display_name": "Python 3.8.5 64-bit"
  },
  "metadata": {
   "interpreter": {
    "hash": "31f2aee4e71d21fbe5cf8b01ff0e069b9275f58929596ceb00d14d90e3e16cd6"
   }
  }
 },
 "nbformat": 4,
 "nbformat_minor": 2,
 "cells": [
  {
   "cell_type": "code",
   "execution_count": 13,
   "metadata": {
    "tags": []
   },
   "outputs": [
    {
     "output_type": "stream",
     "name": "stdout",
     "text": [
      "\nLightshade LE : 98530\n\n"
     ]
    }
   ],
   "source": [
    "import requests\n",
    "import json\n",
    "\n",
    "\n",
    "test = requests.get(\"https://liquipedia.net/starcraft2/api.php?action=query&list=search&srsearch=Lightshade%20LE&format=json\")\n",
    "\n",
    "my_dict = test.json()\n",
    "\n",
    "map_name = my_dict[\"query\"][\"search\"][0][\"title\"]\n",
    "map_id = my_dict[\"query\"][\"search\"][0][\"pageid\"]\n",
    "\n",
    "with open(\"response.json\", \"w\") as response_file:\n",
    "    json.dump(my_dict, response_file)\n",
    "\n",
    "print(f\"{map_name} : {map_id}\")"
   ]
  },
  {
   "cell_type": "code",
   "execution_count": 123,
   "metadata": {
    "tags": []
   },
   "outputs": [
    {
     "output_type": "stream",
     "name": "stdout",
     "text": [
      "{'pageid': 98537, 'ns': 0, 'title': 'Jagannatha'}\n",
      "https://liquipedia.net/commons/images/3/37/Jagannatha.jpg\n"
     ]
    }
   ],
   "source": [
    "import requests\n",
    "import json\n",
    "import re\n",
    "\n",
    "base_main_url = \"https://liquipedia.net/starcraft2/\"\n",
    "base_api_url = \"https://liquipedia.net/starcraft2/api.php?\"\n",
    "\n",
    "def fetch_image_file(title):\n",
    "\n",
    "    params = {\n",
    "        \"action\": \"query\",\n",
    "        \"format\": \"json\",\n",
    "        \"formatversion\": \"2\",\n",
    "        \"prop\": \"images\",\n",
    "        \"titles\": title\n",
    "    }\n",
    "\n",
    "    response = requests.get(url=base_api_url, params=params)\n",
    "    data = response.json()\n",
    "\n",
    "    \n",
    "    # If there's an error, try adding LE and retry\n",
    "    if \"images\" not in data[\"query\"][\"pages\"][0] and \"LE\" not in params[\"titles\"]:\n",
    "         params[\"titles\"] = params[\"titles\"] + \" LE\"\n",
    "         response = requests.get(url=base_api_url, params=params)\n",
    "         data = response.json()\n",
    "\n",
    "\n",
    "    # Doing a regex query to ensure I get an image that corresponds with the map instead of e.g. a random icon\n",
    "    for mapinfo in data[\"query\"][\"pages\"][0][\"images\"]:\n",
    "        mapname = re.search(\"File:(.+?)\\.\", mapinfo[\"title\"]).group(1) # File:Mapname.jpg -> Mapname\n",
    "        if mapname in title:\n",
    "            break\n",
    "\n",
    "    return mapinfo[\"title\"] # File:Mapname.jpg\n",
    "\n",
    "def fetch_image_src(mapname):\n",
    "\n",
    "    params = {\n",
    "        \"action\": \"query\",\n",
    "        \"format\": \"json\",\n",
    "        \"prop\": \"imageinfo\",\n",
    "        \"iiprop\": \"url\",\n",
    "        \"titles\": mapname\n",
    "    }\n",
    "\n",
    "    response = requests.get(url=base_api_url, params=params)\n",
    "    data = response.json()\n",
    "    page = next(iter(data[\"query\"][\"pages\"].values()))\n",
    "    image_info = page[\"imageinfo\"][0]\n",
    "    image_url = image_info[\"url\"]\n",
    "\n",
    "    print(image_url)\n",
    "\n",
    "\n",
    "\n",
    "mapname = fetch_image_file(\"Jagannatha\")\n",
    "fetch_image_src(mapname)\n"
   ]
  },
  {
   "cell_type": "code",
   "execution_count": 113,
   "metadata": {},
   "outputs": [
    {
     "output_type": "execute_result",
     "data": {
      "text/plain": [
       "'Romanticide detail 1'"
      ]
     },
     "metadata": {},
     "execution_count": 113
    }
   ],
   "source": [
    "import re\n",
    "\n",
    "mystring = \"File:Romanticide detail 1.jpg\"\n",
    "\n",
    "re.search(\"File:(.+?)\\.\", mystring).group(1)\n",
    "\n"
   ]
  },
  {
   "cell_type": "code",
   "execution_count": 115,
   "metadata": {},
   "outputs": [
    {
     "output_type": "execute_result",
     "data": {
      "text/plain": [
       "False"
      ]
     },
     "metadata": {},
     "execution_count": 115
    }
   ],
   "source": [
    "\"LE\" in \"lego\""
   ]
  }
 ]
}