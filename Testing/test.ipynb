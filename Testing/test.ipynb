{
 "metadata": {
  "language_info": {
   "codemirror_mode": {
    "name": "ipython",
    "version": 3
   },
   "file_extension": ".py",
   "mimetype": "text/x-python",
   "name": "python",
   "nbconvert_exporter": "python",
   "pygments_lexer": "ipython3",
   "version": "3.8.5"
  },
  "orig_nbformat": 2,
  "kernelspec": {
   "name": "python385jvsc74a57bd031f2aee4e71d21fbe5cf8b01ff0e069b9275f58929596ceb00d14d90e3e16cd6",
   "display_name": "Python 3.8.5 64-bit"
  },
  "metadata": {
   "interpreter": {
    "hash": "31f2aee4e71d21fbe5cf8b01ff0e069b9275f58929596ceb00d14d90e3e16cd6"
   }
  }
 },
 "nbformat": 4,
 "nbformat_minor": 2,
 "cells": [
  {
   "cell_type": "code",
   "execution_count": 2,
   "metadata": {
    "tags": []
   },
   "outputs": [
    {
     "output_type": "stream",
     "name": "stdout",
     "text": [
      "Lightshade LE : 98530 : [e][h]<span class=\"searchmatch\">Lightshade</span> <span class=\"searchmatch\">LE</span>    Map Information  Creator: Marras  Tileset: Mix  Size: 136x132  Spawn Positions: 2 at 4, 10  Rush distance: 33 seconds  1v1 Ladder:\n"
     ]
    }
   ],
   "source": [
    "import requests\n",
    "import json\n",
    "\n",
    "\n",
    "test = requests.get(\"https://liquipedia.net/starcraft2/api.php?action=query&list=search&srsearch=Lightshade%20LE&format=json\")\n",
    "\n",
    "my_dict = test.json()\n",
    "\n",
    "map_name = my_dict[\"query\"][\"search\"][0][\"title\"]\n",
    "map_id = my_dict[\"query\"][\"search\"][0][\"pageid\"]\n",
    "map_size = my_dict[\"query\"][\"search\"][0][\"snippet\"]\n",
    "\n",
    "with open(\"response.json\", \"w\") as response_file:\n",
    "    json.dump(my_dict, response_file)\n",
    "\n",
    "print(f\"{map_name} : {map_id} : {map_size}\")"
   ]
  },
  {
   "cell_type": "code",
   "execution_count": 2,
   "metadata": {
    "tags": []
   },
   "outputs": [
    {
     "output_type": "stream",
     "name": "stdout",
     "text": [
      "https://liquipedia.net/commons/images/3/37/Jagannatha.jpg\n"
     ]
    }
   ],
   "source": [
    "import requests\n",
    "import json\n",
    "import re\n",
    "\n",
    "def fetch_map_details(title):\n",
    "    base_api_url = \"https://liquipedia.net/starcraft2/api.php?\"\n",
    "\n",
    "    params = {\n",
    "        \"action\": \"query\",\n",
    "        \"list\": \"search\",\n",
    "        \"format\": \"json\",\n",
    "    }\n",
    "    response = requests.get(url=base_api_url, params=params)\n",
    "\n",
    "def fetch_image_link(title):\n",
    "\n",
    "    base_main_url = \"https://liquipedia.net/starcraft2/\"\n",
    "    base_api_url = \"https://liquipedia.net/starcraft2/api.php?\"\n",
    "\n",
    "    params = {\n",
    "        \"action\": \"query\",\n",
    "        \"format\": \"json\",\n",
    "        \"formatversion\": \"2\",\n",
    "        \"prop\": \"images\",\n",
    "        \"titles\": title\n",
    "    }\n",
    "\n",
    "    response = requests.get(url=base_api_url, params=params)\n",
    "    data = response.json()\n",
    "\n",
    "    \n",
    "    # If there's an error, try adding LE and retry\n",
    "    if \"images\" not in data[\"query\"][\"pages\"][0] and \"LE\" not in params[\"titles\"]:\n",
    "         params[\"titles\"] = params[\"titles\"] + \" LE\"\n",
    "         response = requests.get(url=base_api_url, params=params)\n",
    "         data = response.json()\n",
    "\n",
    "\n",
    "    # Doing a regex query to ensure I get an image that corresponds with the map instead of e.g. a random icon\n",
    "    for mapinfo in data[\"query\"][\"pages\"][0][\"images\"]:\n",
    "        mapname = re.search(\"File:(.+?)\\.\", mapinfo[\"title\"]).group(1) # File:Mapname.jpg -> Mapname\n",
    "        if mapname in title:\n",
    "            break\n",
    "\n",
    "    map_title = mapinfo[\"title\"] # File:Mapname.jpg\n",
    "\n",
    "    params = {\n",
    "        \"action\": \"query\",\n",
    "        \"format\": \"json\",\n",
    "        \"prop\": \"imageinfo\",\n",
    "        \"iiprop\": \"url\",\n",
    "        \"titles\": map_title\n",
    "    }\n",
    "\n",
    "    response = requests.get(url=base_api_url, params=params)\n",
    "    data = response.json()\n",
    "    page = next(iter(data[\"query\"][\"pages\"].values()))\n",
    "    image_info = page[\"imageinfo\"][0]\n",
    "    image_url = image_info[\"url\"]\n",
    "\n",
    "    print(image_url)\n",
    "\n",
    "\n",
    "fetch_image_link(\"Jagannatha\")\n"
   ]
  },
  {
   "cell_type": "code",
   "execution_count": 12,
   "metadata": {},
   "outputs": [
    {
     "output_type": "stream",
     "name": "stdout",
     "text": [
      "https://liquipedia.net/starcraft2/api.php?action=query&list=search&format=json&srlimit=1&srsearch=Planet+S\n{'batchcomplete': '', 'continue': {'sroffset': 1, 'continue': '-||'}, 'query': {'searchinfo': {'totalhits': 608}, 'search': [{'ns': 0, 'title': 'Planet S', 'pageid': 31501, 'size': 876, 'wordcount': 91, 'snippet': 'minerals and ramps swapped.               <span class=\"searchmatch\">Planet</span> <span class=\"searchmatch\">S</span>                    Neo <span class=\"searchmatch\">Planet</span> <span class=\"searchmatch\">S</span>             Neo <span class=\"searchmatch\">Planet</span> <span class=\"searchmatch\">S</span> games - FPVODs - YouTube playlist', 'timestamp': '2020-06-05T19:37:07Z'}]}}\n"
     ]
    }
   ],
   "source": [
    "import requests\n",
    "import json\n",
    "import re\n",
    "\n",
    "def fetch_map_details(title):\n",
    "    base_api_url = \"https://liquipedia.net/starcraft2/api.php?\"\n",
    "\n",
    "    params = {\n",
    "        \"action\": \"query\",\n",
    "        \"list\": \"search\",\n",
    "        \"format\": \"json\",\n",
    "        \"srlimit\": \"1\",\n",
    "        \"srsearch\": title\n",
    "    }\n",
    "    response = requests.get(url=base_api_url, params=params)\n",
    "    print(response.url)\n",
    "    print(response.json())\n",
    "\n",
    "fetch_map_details(\"Planet S\")"
   ]
  }
 ]
}