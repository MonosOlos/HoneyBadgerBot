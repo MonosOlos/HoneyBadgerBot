{
 "metadata": {
  "language_info": {
   "codemirror_mode": {
    "name": "ipython",
    "version": 3
   },
   "file_extension": ".py",
   "mimetype": "text/x-python",
   "name": "python",
   "nbconvert_exporter": "python",
   "pygments_lexer": "ipython3",
   "version": "3.8.5"
  },
  "orig_nbformat": 2,
  "kernelspec": {
   "name": "python385jvsc74a57bd031f2aee4e71d21fbe5cf8b01ff0e069b9275f58929596ceb00d14d90e3e16cd6",
   "display_name": "Python 3.8.5 64-bit"
  },
  "metadata": {
   "interpreter": {
    "hash": "31f2aee4e71d21fbe5cf8b01ff0e069b9275f58929596ceb00d14d90e3e16cd6"
   }
  }
 },
 "nbformat": 4,
 "nbformat_minor": 2,
 "cells": [
  {
   "cell_type": "code",
   "execution_count": 2,
   "metadata": {},
   "outputs": [
    {
     "output_type": "stream",
     "name": "stdout",
     "text": [
      "https://liquipedia.net/starcraft2/Catallena\n"
     ]
    }
   ],
   "source": [
    "import requests\n",
    "import json\n",
    "\n",
    "\n",
    "def liquipedia_get_url(page_id):\n",
    "    base_api_url = \"https://liquipedia.net/starcraft2/api.php?\"\n",
    "\n",
    "    # https://liquipedia.net/starcraft2/api.php?action=query&prop=info&pageids=48483&inprop=url\n",
    "\n",
    "    page_id = \"48483\"\n",
    "\n",
    "    params = {\n",
    "        \"action\": \"query\",\n",
    "        \"format\": \"json\",\n",
    "        \"prop\": \"info\",\n",
    "        \"inprop\": \"url\",\n",
    "        \"pageids\": page_id,\n",
    "    }\n",
    "\n",
    "    response = requests.get(url=base_api_url, params=params)\n",
    "    data = response.json()\n",
    "\n",
    "    url = data[\"query\"][\"pages\"][page_id][\"fullurl\"]\n",
    "    return url"
   ]
  }
 ]
}