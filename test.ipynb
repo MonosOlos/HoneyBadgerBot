{
 "metadata": {
  "language_info": {
   "codemirror_mode": {
    "name": "ipython",
    "version": 3
   },
   "file_extension": ".py",
   "mimetype": "text/x-python",
   "name": "python",
   "nbconvert_exporter": "python",
   "pygments_lexer": "ipython3",
   "version": "3.8.5"
  },
  "orig_nbformat": 2,
  "kernelspec": {
   "name": "python385jvsc74a57bd031f2aee4e71d21fbe5cf8b01ff0e069b9275f58929596ceb00d14d90e3e16cd6",
   "display_name": "Python 3.8.5 64-bit"
  },
  "metadata": {
   "interpreter": {
    "hash": "31f2aee4e71d21fbe5cf8b01ff0e069b9275f58929596ceb00d14d90e3e16cd6"
   }
  }
 },
 "nbformat": 4,
 "nbformat_minor": 2,
 "cells": [
  {
   "cell_type": "code",
   "execution_count": 3,
   "metadata": {},
   "outputs": [
    {
     "output_type": "stream",
     "name": "stdout",
     "text": [
      "https://www.honeybadgersc2mod.com//rest/bot/player_win_probability/1/5\n",
      "<Response [200]>\n"
     ]
    }
   ],
   "source": [
    "from Libraries.matches import get_matchup_rate\n",
    "from Libraries.bot_config import get_config\n",
    "cfg = get_config()\n",
    "\n",
    "get_matchup_rate(cfg, 1, 5)\n"
   ]
  },
  {
   "cell_type": "code",
   "execution_count": 6,
   "metadata": {},
   "outputs": [
    {
     "output_type": "stream",
     "name": "stdout",
     "text": [
      "51.3%\n"
     ]
    }
   ],
   "source": [
    "import requests\n",
    "import urllib3\n",
    "urllib3.disable_warnings(urllib3.exceptions.InsecureRequestWarning) #TODO HOW TO MAKE THIS SECURE?\n",
    "from Libraries.bot_config import get_config\n",
    "cfg = get_config()\n",
    "\n",
    "def get_login_token(cfg, token=None):\n",
    "    login_url = cfg[\"BASE_URL\"] + cfg[\"LOGIN\"]\n",
    "    auth_url = cfg[\"BASE_URL\"] + \"api-token-auth/\"\n",
    "\n",
    "    current_session = requests.session()\n",
    "    current_session.get(login_url, verify=False)\n",
    "\n",
    "    csrf = current_session.cookies['csrftoken']\n",
    "\n",
    "    resp = current_session.post(auth_url, data={\"username\": cfg[\"USERNAME\"], \"password\": cfg[\"PASSWORD\"]}, headers={\"Referer\": login_url}).json()\n",
    "\n",
    "    return {\"csrf\": csrf, \"token\": resp[\"token\"]}\n",
    "\n",
    "token = get_login_token(cfg)\n",
    "\n",
    "test_url = \"https://www.honeybadgersc2mod.com/rest/bot/player_win_probability/1/2/\"\n",
    "\n",
    "test_request = requests.get(\n",
    "    test_url,\n",
    "    headers = {\n",
    "            \"Referer\": cfg[\"BASE_URL\"],\n",
    "            \"Authorization\": \"Token \" + token[\"token\"]\n",
    "        }, \n",
    "    verify=False\n",
    ")\n",
    "\n",
    "print(test_request.json()[\"expected_score_challenger_string\"])"
   ]
  }
 ]
}